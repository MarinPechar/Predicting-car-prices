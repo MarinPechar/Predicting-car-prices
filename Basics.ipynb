{
 "cells": [
  {
   "cell_type": "code",
   "execution_count": 1,
   "metadata": {
    "collapsed": true
   },
   "outputs": [],
   "source": [
    "import pandas as pd\n",
    "import numpy as np\n",
    "from sklearn.neighbors import KNeighborsRegressor\n",
    "from sklearn.metrics import mean_squared_error\n",
    "from sklearn.model_selection import cross_val_score, KFold\n",
    "from scipy.stats import zscore\n",
    "import math\n",
    "import matplotlib.pyplot as plt\n",
    "pd.options.mode.chained_assignment = None\n",
    "%matplotlib inline"
   ]
  },
  {
   "cell_type": "code",
   "execution_count": 2,
   "metadata": {
    "collapsed": false
   },
   "outputs": [],
   "source": [
    "cols = ['symboling','normalized-losses','make','fuel-type','aspiration','num-of-doors','body-style','drive-wheels','engine-location','wheel-base','length','width','height','curb-weight','engine-type','num-of-cylinders','engine-size','fuel-system','bore','stroke','compression-ratio','horsepower','peak-rpm','city-mpg','highway-mpg','price']\n",
    "car = pd.read_csv('imports-85.data', names = cols)\n",
    "#print(car.columns)\n",
    "#print(car.head(5))"
   ]
  },
  {
   "cell_type": "code",
   "execution_count": 3,
   "metadata": {
    "collapsed": false
   },
   "outputs": [
    {
     "data": {
      "text/html": [
       "<div>\n",
       "<style scoped>\n",
       "    .dataframe tbody tr th:only-of-type {\n",
       "        vertical-align: middle;\n",
       "    }\n",
       "\n",
       "    .dataframe tbody tr th {\n",
       "        vertical-align: top;\n",
       "    }\n",
       "\n",
       "    .dataframe thead th {\n",
       "        text-align: right;\n",
       "    }\n",
       "</style>\n",
       "<table border=\"1\" class=\"dataframe\">\n",
       "  <thead>\n",
       "    <tr style=\"text-align: right;\">\n",
       "      <th></th>\n",
       "      <th>normalized-losses</th>\n",
       "      <th>num-of-doors</th>\n",
       "      <th>wheel-base</th>\n",
       "      <th>length</th>\n",
       "      <th>width</th>\n",
       "      <th>height</th>\n",
       "      <th>curb-weight</th>\n",
       "      <th>num-of-cylinders</th>\n",
       "      <th>engine-size</th>\n",
       "      <th>bore</th>\n",
       "      <th>stroke</th>\n",
       "      <th>compression-ratio</th>\n",
       "      <th>horsepower</th>\n",
       "      <th>peak-rpm</th>\n",
       "      <th>city-mpg</th>\n",
       "      <th>highway-mpg</th>\n",
       "      <th>price</th>\n",
       "    </tr>\n",
       "  </thead>\n",
       "  <tbody>\n",
       "    <tr>\n",
       "      <th>0</th>\n",
       "      <td>?</td>\n",
       "      <td>two</td>\n",
       "      <td>88.6</td>\n",
       "      <td>168.8</td>\n",
       "      <td>64.1</td>\n",
       "      <td>48.8</td>\n",
       "      <td>2548</td>\n",
       "      <td>four</td>\n",
       "      <td>130</td>\n",
       "      <td>3.47</td>\n",
       "      <td>2.68</td>\n",
       "      <td>9.0</td>\n",
       "      <td>111</td>\n",
       "      <td>5000</td>\n",
       "      <td>21</td>\n",
       "      <td>27</td>\n",
       "      <td>13495</td>\n",
       "    </tr>\n",
       "    <tr>\n",
       "      <th>1</th>\n",
       "      <td>?</td>\n",
       "      <td>two</td>\n",
       "      <td>88.6</td>\n",
       "      <td>168.8</td>\n",
       "      <td>64.1</td>\n",
       "      <td>48.8</td>\n",
       "      <td>2548</td>\n",
       "      <td>four</td>\n",
       "      <td>130</td>\n",
       "      <td>3.47</td>\n",
       "      <td>2.68</td>\n",
       "      <td>9.0</td>\n",
       "      <td>111</td>\n",
       "      <td>5000</td>\n",
       "      <td>21</td>\n",
       "      <td>27</td>\n",
       "      <td>16500</td>\n",
       "    </tr>\n",
       "  </tbody>\n",
       "</table>\n",
       "</div>"
      ],
      "text/plain": [
       "  normalized-losses num-of-doors  wheel-base  length  width  height  \\\n",
       "0                 ?          two        88.6   168.8   64.1    48.8   \n",
       "1                 ?          two        88.6   168.8   64.1    48.8   \n",
       "\n",
       "   curb-weight num-of-cylinders  engine-size  bore stroke  compression-ratio  \\\n",
       "0         2548             four          130  3.47   2.68                9.0   \n",
       "1         2548             four          130  3.47   2.68                9.0   \n",
       "\n",
       "  horsepower peak-rpm  city-mpg  highway-mpg  price  \n",
       "0        111     5000        21           27  13495  \n",
       "1        111     5000        21           27  16500  "
      ]
     },
     "execution_count": 3,
     "metadata": {},
     "output_type": "execute_result"
    }
   ],
   "source": [
    "features = ['normalized-losses','num-of-doors','wheel-base','length','width',\n",
    "            'height','curb-weight','num-of-cylinders','engine-size','bore',\n",
    "            'stroke','compression-ratio','horsepower','peak-rpm','city-mpg','highway-mpg','price']\n",
    "car_features = car[features]\n",
    "#car_features.info()\n",
    "car_features.head(2)"
   ]
  },
  {
   "cell_type": "code",
   "execution_count": 4,
   "metadata": {
    "collapsed": false
   },
   "outputs": [],
   "source": [
    "mapper = {'one':1,\n",
    "          'two':2,\n",
    "          'three':3,\n",
    "          'four':4,\n",
    "          'five':5,\n",
    "          'six':6,\n",
    "          'seven':7,\n",
    "          'eight':8,\n",
    "          'nine':9,\n",
    "          'ten':10}"
   ]
  },
  {
   "cell_type": "code",
   "execution_count": 5,
   "metadata": {
    "collapsed": false
   },
   "outputs": [
    {
     "data": {
      "text/html": [
       "<div>\n",
       "<style scoped>\n",
       "    .dataframe tbody tr th:only-of-type {\n",
       "        vertical-align: middle;\n",
       "    }\n",
       "\n",
       "    .dataframe tbody tr th {\n",
       "        vertical-align: top;\n",
       "    }\n",
       "\n",
       "    .dataframe thead th {\n",
       "        text-align: right;\n",
       "    }\n",
       "</style>\n",
       "<table border=\"1\" class=\"dataframe\">\n",
       "  <thead>\n",
       "    <tr style=\"text-align: right;\">\n",
       "      <th></th>\n",
       "      <th>normalized-losses</th>\n",
       "      <th>num-of-doors</th>\n",
       "      <th>wheel-base</th>\n",
       "      <th>length</th>\n",
       "      <th>width</th>\n",
       "      <th>height</th>\n",
       "      <th>curb-weight</th>\n",
       "      <th>num-of-cylinders</th>\n",
       "      <th>engine-size</th>\n",
       "      <th>bore</th>\n",
       "      <th>stroke</th>\n",
       "      <th>compression-ratio</th>\n",
       "      <th>horsepower</th>\n",
       "      <th>peak-rpm</th>\n",
       "      <th>city-mpg</th>\n",
       "      <th>highway-mpg</th>\n",
       "      <th>price</th>\n",
       "    </tr>\n",
       "  </thead>\n",
       "  <tbody>\n",
       "    <tr>\n",
       "      <th>0</th>\n",
       "      <td>?</td>\n",
       "      <td>2.0</td>\n",
       "      <td>88.6</td>\n",
       "      <td>168.8</td>\n",
       "      <td>64.1</td>\n",
       "      <td>48.8</td>\n",
       "      <td>2548</td>\n",
       "      <td>4.0</td>\n",
       "      <td>130</td>\n",
       "      <td>3.47</td>\n",
       "      <td>2.68</td>\n",
       "      <td>9.0</td>\n",
       "      <td>111</td>\n",
       "      <td>5000</td>\n",
       "      <td>21</td>\n",
       "      <td>27</td>\n",
       "      <td>13495</td>\n",
       "    </tr>\n",
       "    <tr>\n",
       "      <th>1</th>\n",
       "      <td>?</td>\n",
       "      <td>2.0</td>\n",
       "      <td>88.6</td>\n",
       "      <td>168.8</td>\n",
       "      <td>64.1</td>\n",
       "      <td>48.8</td>\n",
       "      <td>2548</td>\n",
       "      <td>4.0</td>\n",
       "      <td>130</td>\n",
       "      <td>3.47</td>\n",
       "      <td>2.68</td>\n",
       "      <td>9.0</td>\n",
       "      <td>111</td>\n",
       "      <td>5000</td>\n",
       "      <td>21</td>\n",
       "      <td>27</td>\n",
       "      <td>16500</td>\n",
       "    </tr>\n",
       "    <tr>\n",
       "      <th>2</th>\n",
       "      <td>?</td>\n",
       "      <td>2.0</td>\n",
       "      <td>94.5</td>\n",
       "      <td>171.2</td>\n",
       "      <td>65.5</td>\n",
       "      <td>52.4</td>\n",
       "      <td>2823</td>\n",
       "      <td>6.0</td>\n",
       "      <td>152</td>\n",
       "      <td>2.68</td>\n",
       "      <td>3.47</td>\n",
       "      <td>9.0</td>\n",
       "      <td>154</td>\n",
       "      <td>5000</td>\n",
       "      <td>19</td>\n",
       "      <td>26</td>\n",
       "      <td>16500</td>\n",
       "    </tr>\n",
       "    <tr>\n",
       "      <th>3</th>\n",
       "      <td>164</td>\n",
       "      <td>4.0</td>\n",
       "      <td>99.8</td>\n",
       "      <td>176.6</td>\n",
       "      <td>66.2</td>\n",
       "      <td>54.3</td>\n",
       "      <td>2337</td>\n",
       "      <td>4.0</td>\n",
       "      <td>109</td>\n",
       "      <td>3.19</td>\n",
       "      <td>3.40</td>\n",
       "      <td>10.0</td>\n",
       "      <td>102</td>\n",
       "      <td>5500</td>\n",
       "      <td>24</td>\n",
       "      <td>30</td>\n",
       "      <td>13950</td>\n",
       "    </tr>\n",
       "    <tr>\n",
       "      <th>4</th>\n",
       "      <td>164</td>\n",
       "      <td>4.0</td>\n",
       "      <td>99.4</td>\n",
       "      <td>176.6</td>\n",
       "      <td>66.4</td>\n",
       "      <td>54.3</td>\n",
       "      <td>2824</td>\n",
       "      <td>5.0</td>\n",
       "      <td>136</td>\n",
       "      <td>3.19</td>\n",
       "      <td>3.40</td>\n",
       "      <td>8.0</td>\n",
       "      <td>115</td>\n",
       "      <td>5500</td>\n",
       "      <td>18</td>\n",
       "      <td>22</td>\n",
       "      <td>17450</td>\n",
       "    </tr>\n",
       "  </tbody>\n",
       "</table>\n",
       "</div>"
      ],
      "text/plain": [
       "  normalized-losses  num-of-doors  wheel-base  length  width  height  \\\n",
       "0                 ?           2.0        88.6   168.8   64.1    48.8   \n",
       "1                 ?           2.0        88.6   168.8   64.1    48.8   \n",
       "2                 ?           2.0        94.5   171.2   65.5    52.4   \n",
       "3               164           4.0        99.8   176.6   66.2    54.3   \n",
       "4               164           4.0        99.4   176.6   66.4    54.3   \n",
       "\n",
       "   curb-weight  num-of-cylinders  engine-size  bore stroke  compression-ratio  \\\n",
       "0         2548               4.0          130  3.47   2.68                9.0   \n",
       "1         2548               4.0          130  3.47   2.68                9.0   \n",
       "2         2823               6.0          152  2.68   3.47                9.0   \n",
       "3         2337               4.0          109  3.19   3.40               10.0   \n",
       "4         2824               5.0          136  3.19   3.40                8.0   \n",
       "\n",
       "  horsepower peak-rpm  city-mpg  highway-mpg  price  \n",
       "0        111     5000        21           27  13495  \n",
       "1        111     5000        21           27  16500  \n",
       "2        154     5000        19           26  16500  \n",
       "3        102     5500        24           30  13950  \n",
       "4        115     5500        18           22  17450  "
      ]
     },
     "execution_count": 5,
     "metadata": {},
     "output_type": "execute_result"
    }
   ],
   "source": [
    "car_features['num-of-doors'] = car_features['num-of-doors'].map(mapper)\n",
    "car_features['num-of-cylinders'] = car_features['num-of-cylinders'].map(mapper)\n",
    "car_features.head(5)"
   ]
  },
  {
   "cell_type": "code",
   "execution_count": 6,
   "metadata": {
    "collapsed": false
   },
   "outputs": [],
   "source": [
    "car_features =  car_features.replace('?', np.nan)\n",
    "car_features = car_features.astype(float)\n",
    "#car_features.isnull().sum()\n",
    "#car_features.shape"
   ]
  },
  {
   "cell_type": "code",
   "execution_count": 7,
   "metadata": {
    "collapsed": false
   },
   "outputs": [
    {
     "data": {
      "text/plain": [
       "normalized-losses    0\n",
       "num-of-doors         0\n",
       "wheel-base           0\n",
       "length               0\n",
       "width                0\n",
       "height               0\n",
       "curb-weight          0\n",
       "num-of-cylinders     0\n",
       "engine-size          0\n",
       "bore                 0\n",
       "stroke               0\n",
       "compression-ratio    0\n",
       "horsepower           0\n",
       "peak-rpm             0\n",
       "city-mpg             0\n",
       "highway-mpg          0\n",
       "price                0\n",
       "dtype: int64"
      ]
     },
     "execution_count": 7,
     "metadata": {},
     "output_type": "execute_result"
    }
   ],
   "source": [
    "car_features['normalized-losses'].fillna(car_features['normalized-losses'].mean(), inplace=True)\n",
    "car_features.dropna(inplace=True)\n",
    "car_features.isna().sum()"
   ]
  },
  {
   "cell_type": "code",
   "execution_count": 8,
   "metadata": {
    "collapsed": true
   },
   "outputs": [],
   "source": [
    "price = car_features['price']\n",
    "car_normalized = (car_features - car_features.min())/(car_features.max() - car_features.min())\n",
    "car_normalized_zscore = car_features.apply(zscore)\n",
    "car_normalized['price'] = price\n",
    "car_normalized_zscore['price'] = price"
   ]
  },
  {
   "cell_type": "code",
   "execution_count": 9,
   "metadata": {
    "collapsed": false
   },
   "outputs": [],
   "source": [
    "#print(car_normalized.head(3))"
   ]
  },
  {
   "cell_type": "code",
   "execution_count": 10,
   "metadata": {
    "collapsed": false
   },
   "outputs": [
    {
     "name": "stdout",
     "output_type": "stream",
     "text": [
      "   normalized-losses  num-of-doors  wheel-base    length     width    height  \\\n",
      "0           0.022223     -1.183216   -1.676508 -0.437848 -0.838318 -2.167049   \n",
      "1           0.022223     -1.183216   -1.676508 -0.437848 -0.838318 -2.167049   \n",
      "2           0.022223     -1.183216   -0.716906 -0.244536 -0.174968 -0.637836   \n",
      "\n",
      "   curb-weight  num-of-cylinders  engine-size      bore    stroke  \\\n",
      "0    -0.012139         -0.440183     0.074427  0.516500 -1.823067   \n",
      "1    -0.012139         -0.440183     0.074427  0.516500 -1.823067   \n",
      "2     0.519746          1.875298     0.637831 -2.388308  0.697422   \n",
      "\n",
      "   compression-ratio  horsepower  peak-rpm  city-mpg  highway-mpg    price  \n",
      "0          -0.285836    0.230581  -0.21394 -0.694142    -0.572309  13495.0  \n",
      "1          -0.285836    0.230581  -0.21394 -0.694142    -0.572309  16500.0  \n",
      "2          -0.285836    1.418892  -0.21394 -1.010335    -0.720600  16500.0  \n"
     ]
    }
   ],
   "source": [
    "print(car_normalized_zscore.head(3))"
   ]
  },
  {
   "cell_type": "code",
   "execution_count": 11,
   "metadata": {
    "collapsed": false
   },
   "outputs": [
    {
     "name": "stdout",
     "output_type": "stream",
     "text": [
      "8.0\n",
      "3.0\n",
      "4.380208333333333\n"
     ]
    }
   ],
   "source": [
    "print(car_features['num-of-cylinders'].max())\n",
    "print(car_features['num-of-cylinders'].min())\n",
    "print(car_features['num-of-cylinders'].mean())"
   ]
  },
  {
   "cell_type": "code",
   "execution_count": 12,
   "metadata": {
    "collapsed": false
   },
   "outputs": [],
   "source": [
    "def knn_train_test(data, tr_cols, pr_col, k_par):\n",
    "    \n",
    "    #zamícháme data\n",
    "    np.random.seed(1)\n",
    "    random  = np.random.permutation(data.index)\n",
    "    data = data.reindex(random)\n",
    "    data = data.reset_index(drop=True)\n",
    "    \n",
    "    #rozdělíme na test a train data\n",
    "    half = int((data.shape[0] + 1)/2)\n",
    "    train = data[:half]\n",
    "    test = data[half:]\n",
    "    \n",
    "    #iterujeme k parameter\n",
    "    fin_rmse = {}\n",
    "    for k in k_par:\n",
    "        rmse = 0\n",
    "        \n",
    "        #init knn class\n",
    "        knn = KNeighborsRegressor(n_neighbors=k,\n",
    "                                  algorithm='brute')\n",
    "        knn.fit(train[tr_cols], train[pr_col])\n",
    "\n",
    "        #prediction\n",
    "        prediction = knn.predict(test[tr_cols])\n",
    "    \n",
    "        #evaluation\n",
    "        rmse = math.sqrt(mean_squared_error(test[pr_col], prediction))\n",
    "        fin_rmse[k] = rmse \n",
    "\n",
    "    return fin_rmse"
   ]
  },
  {
   "cell_type": "markdown",
   "metadata": {},
   "source": [
    "# All features"
   ]
  },
  {
   "cell_type": "code",
   "execution_count": 13,
   "metadata": {
    "collapsed": true
   },
   "outputs": [],
   "source": [
    "all_features = ['normalized-losses','num-of-doors','wheel-base','length','width',\n",
    "            'height','curb-weight','num-of-cylinders','engine-size','bore',\n",
    "            'stroke','compression-ratio','horsepower','peak-rpm','city-mpg','highway-mpg']\n",
    "pre = 'price'\n",
    "k_para = [1,2,3,4,5,6,7,8,9,10]"
   ]
  },
  {
   "cell_type": "code",
   "execution_count": 14,
   "metadata": {
    "collapsed": false
   },
   "outputs": [
    {
     "data": {
      "text/plain": [
       "{1: 3299.614982274447,\n",
       " 2: 3718.8011880230524,\n",
       " 3: 3597.7651597451336,\n",
       " 4: 4080.614963037128,\n",
       " 5: 4497.735035177891,\n",
       " 6: 4853.159468021694,\n",
       " 7: 4868.3583603934285,\n",
       " 8: 4898.257658530783,\n",
       " 9: 4922.270355099186,\n",
       " 10: 4973.712052590432}"
      ]
     },
     "execution_count": 14,
     "metadata": {},
     "output_type": "execute_result"
    }
   ],
   "source": [
    "all_features_p = knn_train_test(car_normalized_zscore, all_features, pre, k_para)\n",
    "all_features_p"
   ]
  },
  {
   "cell_type": "code",
   "execution_count": 15,
   "metadata": {
    "collapsed": false
   },
   "outputs": [
    {
     "data": {
      "image/png": "[encoded data removed]",
      "text/plain": [
       "<matplotlib.figure.Figure at 0x7fb9e139e358>"
      ]
     },
     "metadata": {},
     "output_type": "display_data"
    }
   ],
   "source": [
    "x = list(all_features_p.keys())\n",
    "y = list(all_features_p.values())\n",
    "plt.plot(x,y)\n",
    "plt.show()"
   ]
  },
  {
   "cell_type": "markdown",
   "metadata": {},
   "source": [
    "# Subjective feature selection"
   ]
  },
  {
   "cell_type": "markdown",
   "metadata": {},
   "source": [
    "# Holdout validation"
   ]
  },
  {
   "cell_type": "code",
   "execution_count": 16,
   "metadata": {
    "collapsed": true
   },
   "outputs": [],
   "source": [
    "sel_features = ['num-of-cylinders','engine-size','horsepower']\n",
    "pre = 'price'\n",
    "k_para = [1,2,3,4,5,6,7,8,9,10]"
   ]
  },
  {
   "cell_type": "code",
   "execution_count": 17,
   "metadata": {
    "collapsed": false
   },
   "outputs": [
    {
     "data": {
      "text/plain": [
       "{1: 2439.1863290689103,\n",
       " 2: 2487.8088465094806,\n",
       " 3: 2779.56080413595,\n",
       " 4: 2835.621816451817,\n",
       " 5: 3282.9090013660143,\n",
       " 6: 3623.182970293779,\n",
       " 7: 3998.6741882551555,\n",
       " 8: 4302.184637023574,\n",
       " 9: 4562.925932779299,\n",
       " 10: 4741.485229038206}"
      ]
     },
     "execution_count": 17,
     "metadata": {},
     "output_type": "execute_result"
    }
   ],
   "source": [
    "sel_features_p = knn_train_test(car_normalized_zscore, sel_features, pre, k_para)\n",
    "sel_features_p"
   ]
  },
  {
   "cell_type": "code",
   "execution_count": 18,
   "metadata": {
    "collapsed": false
   },
   "outputs": [
    {
     "data": {
      "image/png": "[encoded data removed]",
      "text/plain": [
       "<matplotlib.figure.Figure at 0x7fb9e12e9e80>"
      ]
     },
     "metadata": {},
     "output_type": "display_data"
    }
   ],
   "source": [
    "x = list(sel_features_p.keys())\n",
    "y = list(sel_features_p.values())\n",
    "plt.plot(x,y)\n",
    "plt.show()"
   ]
  },
  {
   "cell_type": "markdown",
   "metadata": {},
   "source": [
    "# K-fold cross validation"
   ]
  },
  {
   "cell_type": "code",
   "execution_count": 19,
   "metadata": {
    "collapsed": false
   },
   "outputs": [],
   "source": [
    "def knn_train_test_kfold(data, tr_cols, pr_col, k_par):\n",
    "    \n",
    "    #iterujeme k parameter\n",
    "    fin_mse = {}\n",
    "    for k in k_par:\n",
    "        mse = 0\n",
    "        #init knn class\n",
    "        knn = KNeighborsRegressor(n_neighbors=k,\n",
    "                                  algorithm='brute')\n",
    "        \n",
    "        #ini KFold class\n",
    "        kf = KFold(n_splits=5,\n",
    "                   shuffle=True,\n",
    "                   random_state=1)\n",
    "        \n",
    "        mse = cross_val_score(knn,\n",
    "                              data[tr_cols],\n",
    "                              data[pr_col],\n",
    "                              scoring='neg_mean_squared_error',\n",
    "                              cv=kf)\n",
    "        tmp = []\n",
    "        for rec in mse:\n",
    "            tmp.append(math.sqrt(abs(rec)))\n",
    "        \n",
    "        fin_mse[k] = tmp\n",
    "\n",
    "    return fin_mse"
   ]
  },
  {
   "cell_type": "code",
   "execution_count": 26,
   "metadata": {
    "collapsed": false
   },
   "outputs": [],
   "source": [
    "sel_features = ['num-of-cylinders','engine-size','horsepower']\n",
    "pre = 'price'\n",
    "k_para = [1,2,3,4,5,6,7,8,9,10]\n",
    "\n",
    "sel_features_kfold_p = knn_train_test_kfold(car_normalized_zscore, sel_features, pre, k_para)"
   ]
  },
  {
   "cell_type": "code",
   "execution_count": 25,
   "metadata": {
    "collapsed": false
   },
   "outputs": [
    {
     "data": {
      "image/png": "[encoded data removed]",
      "text/plain": [
       "<matplotlib.figure.Figure at 0x7fb9defd4dd8>"
      ]
     },
     "metadata": {},
     "output_type": "display_data"
    }
   ],
   "source": [
    "for k,v in sel_features_kfold_p.items():\n",
    "    plt.plot(v)\n",
    "    plt.xlabel('k value')\n",
    "    plt.ylabel('RMSE')"
   ]
  }
 ],
 "metadata": {
  "kernelspec": {
   "display_name": "Python 3",
   "language": "python",
   "name": "python3"
  },
  "language_info": {
   "codemirror_mode": {
    "name": "ipython",
    "version": 3
   },
   "file_extension": ".py",
   "mimetype": "text/x-python",
   "name": "python",
   "nbconvert_exporter": "python",
   "pygments_lexer": "ipython3",
   "version": "3.4.3"
  }
 },
 "nbformat": 4,
 "nbformat_minor": 2
}
